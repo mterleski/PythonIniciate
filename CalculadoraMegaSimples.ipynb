{
  "nbformat": 4,
  "nbformat_minor": 0,
  "metadata": {
    "colab": {
      "provenance": []
    },
    "kernelspec": {
      "name": "python3",
      "display_name": "Python 3"
    },
    "language_info": {
      "name": "python"
    }
  },
  "cells": [
    {
      "cell_type": "code",
      "execution_count": 49,
      "metadata": {
        "id": "nL1TWGolqpt_",
        "colab": {
          "base_uri": "https://localhost:8080/"
        },
        "outputId": "08075885-1c2e-4acb-bbe9-f09c65451e50"
      },
      "outputs": [
        {
          "output_type": "stream",
          "name": "stdout",
          "text": [
            "Olá, este programa consegue fazer cálculos simples de dois números. \n",
            "\n",
            "Digite o primeiro número:5\n",
            "Digite o segundo número:87\n",
            "\n",
            "Opções de operações disponíveis:\n",
            "\t1-Adição\n",
            "\t2-subtração\n",
            "\t3-multiplicação\n",
            "\t4-Divisão\n",
            "\n",
            "Qual operação quer realizar?1\n",
            "A resposta da Soma é 92.0\n",
            "Deseja realizar outra operação?\n",
            "5\n",
            "Obrigado por utilizar nosso programa.\n"
          ]
        }
      ],
      "source": [
        "#Início\n",
        "print(\"Olá, este programa consegue fazer cálculos simples de dois números. \\n\")\n",
        "#Abrindo o loop\n",
        "continuar = 'sim'\n",
        "while continuar=='sim':\n",
        "  x = float(input(\"Digite o primeiro número:\")) #Recebendo e convertendo as variáveis x e y\n",
        "  y = float(input(\"Digite o segundo número:\"))\n",
        "  print(\"\\nOpções de operações disponíveis:\\n\\t1-Adição\\n\\t2-subtração\\n\\t3-multiplicação\\n\\t4-Divisão\")#apresentando as opções\n",
        "  z = input(\"\\nQual operação quer realizar?\")\n",
        "  if z== '1':#uso de if/elif/else para realizar as operações\n",
        "      ResultSoma = x+y\n",
        "      print(\"A resposta da Soma é\", ResultSoma)\n",
        "      del x,y\n",
        "  elif z== '2':\n",
        "      ResultSubtração = x-y\n",
        "      print(\"A resposta da Subtração é\", ResultSubtração)\n",
        "      del x,y\n",
        "  elif z== '3':\n",
        "      ResultMultiplicação = x*y\n",
        "      print(\"A resposta da Multiplicação é\", ResultMultiplicação)\n",
        "      del x,y\n",
        "  elif z== '4':\n",
        "      ResultDivisão = x/y\n",
        "      print(\"A resposta da Divisão é\", ResultDivisão)\n",
        "      del x,y\n",
        "  else:\n",
        "    print(\"Operação indisponível\")\n",
        "    del x,y\n",
        "  print(\"Deseja realizar outra operação?\")#finalizando o laço\n",
        "  continuar = input()\n",
        "\n",
        "print(\"Obrigado por utilizar nosso programa.\")#saída do laço"
      ]
    }
  ]
}